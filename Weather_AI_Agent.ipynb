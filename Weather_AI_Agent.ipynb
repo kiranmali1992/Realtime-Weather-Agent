{
 "cells": [
  {
   "cell_type": "markdown",
   "id": "8c97fb8e",
   "metadata": {},
   "source": [
    "# Agentic AI Weather Agent with Tomorrow. and Large Language Model"
   ]
  },
  {
   "cell_type": "code",
   "execution_count": null,
   "id": "33b676f1",
   "metadata": {},
   "outputs": [
    {
     "data": {
      "text/plain": [
       "True"
      ]
     },
     "execution_count": 1,
     "metadata": {},
     "output_type": "execute_result"
    }
   ],
   "source": [
    "import os\n",
    "from dotenv import load_dotenv\n",
    "from langchain_groq import ChatGroq\n",
    "load_dotenv()"
   ]
  },
  {
   "cell_type": "code",
   "execution_count": null,
   "id": "c3b27638",
   "metadata": {},
   "outputs": [],
   "source": [
    "os.environ[\"GROQ_API_KEY\"] = os.getenv(\"GROQ_API_KEY\")\n"
   ]
  },
  {
   "cell_type": "markdown",
   "id": "0f058376",
   "metadata": {},
   "source": [
    "Load Model"
   ]
  },
  {
   "cell_type": "code",
   "execution_count": null,
   "id": "b0cecd02",
   "metadata": {},
   "outputs": [],
   "source": [
    "model = \"deepseek-r1-distill-llama-70b\"\n",
    "llm = ChatGroq(model = model)"
   ]
  },
  {
   "cell_type": "code",
   "execution_count": 6,
   "id": "f6c5cd45",
   "metadata": {},
   "outputs": [],
   "source": [
    "response = llm.invoke(\"can you tell me capital of Punjab?\").content"
   ]
  },
  {
   "cell_type": "code",
   "execution_count": 7,
   "id": "339209d5",
   "metadata": {},
   "outputs": [
    {
     "name": "stdout",
     "output_type": "stream",
     "text": [
      "<think>\n",
      "Okay, so I need to figure out the capital of Punjab. Hmm, I'm not entirely sure, but I'll try to work it out. First, I remember that Punjab is a region in South Asia, but I think there might be two parts because of the partition of India and Pakistan. \n",
      "\n",
      "So, I think Punjab is divided into two states: one in India and one in Pakistan. I'm pretty sure that in India, the state of Punjab has a capital city. I've heard of Chandigarh before, maybe that's it? But wait, isn't Chandigarh also a Union Territory? I think Chandigarh serves as the capital for both Punjab and Haryana in India. That makes sense because sometimes states share capitals, especially if they're near each other or for administrative reasons.\n",
      "\n",
      "Now, what about Pakistan? I believe there's a Punjab province there too. The capital of Pakistani Punjab, if I'm not mistaken, is Lahore. I've heard of Lahore as a major city in Pakistan, so that seems right. It's a big cultural hub, I think.\n",
      "\n",
      "Wait, to make sure I'm not mixing things up, I'll try to recall. In India, the states are like Punjab, Haryana, Himachal Pradesh, etc., and Chandigarh is the capital for Punjab and Haryana. Lahore is definitely in Pakistan and is a significant city there. So, putting it all together, the capitals of Punjab depend on which country you're referring to. \n",
      "\n",
      "I think the user might be asking about the Indian Punjab, but it's good to mention both just in case. So, the capital of Indian Punjab is Chandigarh, and the capital of Pakistani Punjab is Lahore. That way, the answer is comprehensive and covers both possibilities.\n",
      "</think>\n",
      "\n",
      "The capital of Punjab depends on the country:\n",
      "\n",
      "- **Indian Punjab**: Chandigarh (which also serves as the capital of Haryana).\n",
      "- **Pakistani Punjab**: Lahore.\n",
      "\n",
      "Thus, Chandigarh is the capital of Indian Punjab, while Lahore is the capital of Pakistani Punjab.\n"
     ]
    }
   ],
   "source": [
    "print(response)"
   ]
  },
  {
   "cell_type": "markdown",
   "id": "979d00d0",
   "metadata": {},
   "source": [
    "# Working with tool"
   ]
  },
  {
   "cell_type": "code",
   "execution_count": 56,
   "id": "6b40728d",
   "metadata": {},
   "outputs": [],
   "source": [
    "from langchain_core.tools import tool\n",
    "from langchain_core.messages import HumanMessage, AIMessage, SystemMessage \n",
    "from langgraph.graph import StateGraph,MessagesState,START,END\n",
    "from langgraph.prebuilt import ToolNode\n"
   ]
  },
  {
   "cell_type": "code",
   "execution_count": 9,
   "id": "43acb20a",
   "metadata": {},
   "outputs": [],
   "source": [
    "# calling model for output\n",
    "def call_llm(state: MessagesState):\n",
    "    \n",
    "    message = state[\"messages\"]\n",
    "\n",
    "    response = llm.invoke(message)\n",
    "\n",
    "    return {\"messages\": [response]}\n"
   ]
  },
  {
   "cell_type": "code",
   "execution_count": 10,
   "id": "4d835ac0",
   "metadata": {},
   "outputs": [
    {
     "data": {
      "text/plain": [
       "{'messages': [AIMessage(content=\"<think>\\nOkay, so I need to figure out the capital of Maharashtra. I'm not entirely sure, but I'll try to work through it step by step.\\n\\nFirst, I know that Maharashtra is a state in India. I've heard of a few cities in India like Mumbai, Delhi, Bangalore, and Pune. I think Mumbai is a major city, maybe the biggest in Maharashtra. But is it the capital?\\n\\nI remember that sometimes the largest city isn't always the capital. For example, in the US, New York is the biggest city, but Washington D.C. is the capital. So maybe it's similar in India. I think the capital of India is New Delhi, so that's different from Mumbai.\\n\\nWait, but I'm pretty sure Mumbai is the capital of Maharashtra. I've heard that before. Let me think about other states. Like, Gujarat's capital is Gandhinagar, but the big city is Ahmedabad. So maybe in Maharashtra, the capital is Mumbai, which is also the biggest city.\\n\\nI don't think Pune is the capital, though it's a big city in Maharashtra. Maybe it's the cultural capital or something like that. I've heard of the Maharashtra state having Mumbai as its capital. So I'm leaning towards Mumbai being the correct answer.\\n\\nI don't recall any other city in Maharashtra that's more prominent than Mumbai. So I think I can confidently say that Mumbai is the capital of Maharashtra.\\n</think>\\n\\nThe capital of Maharashtra is Mumbai.\", additional_kwargs={}, response_metadata={'token_usage': {'completion_tokens': 301, 'prompt_tokens': 9, 'total_tokens': 310, 'completion_time': 1.32081389, 'prompt_time': 0.009778814, 'queue_time': 0.041550016, 'total_time': 1.330592704}, 'model_name': 'deepseek-r1-distill-llama-70b', 'system_fingerprint': 'fp_1bbe7845ec', 'service_tier': 'on_demand', 'finish_reason': 'stop', 'logprobs': None}, id='run--21fb498f-8889-4682-a107-413712387b9a-0', usage_metadata={'input_tokens': 9, 'output_tokens': 301, 'total_tokens': 310})]}"
      ]
     },
     "execution_count": 10,
     "metadata": {},
     "output_type": "execute_result"
    }
   ],
   "source": [
    "state = {\"messages\":[\"capital of maharastra?\"]}\n",
    "call_llm(state)"
   ]
  },
  {
   "cell_type": "markdown",
   "id": "ea4ee379",
   "metadata": {},
   "source": [
    "# Building workflow with tool calling"
   ]
  },
  {
   "cell_type": "code",
   "execution_count": 11,
   "id": "32c68c19",
   "metadata": {},
   "outputs": [],
   "source": [
    "import requests\n",
    "from typing import Dict, Any\n",
    "\n",
    "class weather_tool:\n",
    "\n",
    "    def __init__(self,api_key:str):\n",
    "        self.api_key = api_key,\n",
    "        self.base_url = \"https://api.tomorrow.io/v4/weather/realtime\"\n",
    "\n",
    "    def get_weather(self, location:str) -> Dict[str, Any]:\n",
    "\n",
    "        \"\"\"Fetch real time weather information from temorrow.io\n",
    "        Args: \n",
    "        location: Place name(e.g: Mumbai)\n",
    "        return:\n",
    "        Dictionary with temperature, humidity and condition\"\"\"\n",
    "\n",
    "        parameter ={\"location\":location,\n",
    "                    \"apikey\":self.api_key \n",
    "                    }\n",
    "        \n",
    "        response = requests.get(url= self.base_url,params= parameter)\n",
    "\n",
    "        if response.status_code !=200:\n",
    "            return {\"error\": f\"API request failed: {response.text}\"}\n",
    "        \n",
    "        data = response.json()\n",
    "\n",
    "\n",
    "        values = data.get(\"data\", {}).get(\"values\", {})\n",
    "\n",
    "        return {\n",
    "            \"location\": location,\n",
    "            \"temperature\": values.get(\"temperature\"),\n",
    "            \"humidity\": values.get(\"humidity\"),\n",
    "            \"wind_speed\": values.get(\"windSpeed\"),\n",
    "            \"condition\": values.get(\"weatherCode\")\n",
    "        }\n",
    "        "
   ]
  },
  {
   "cell_type": "markdown",
   "id": "29c1af3b",
   "metadata": {},
   "source": []
  },
  {
   "cell_type": "code",
   "execution_count": 12,
   "id": "e55c4c97",
   "metadata": {},
   "outputs": [],
   "source": [
    "@tool\n",
    "def Weather_Search(location:str):\n",
    "    \"\"\"Get real-time weather information for a given location\"\"\"\n",
    "    weather_tools = weather_tool(\"9l3JxkG0LdZVa2qXEJckAoboAaFw8hEj\")\n",
    "\n",
    "    data = weather_tools.get_weather(location)\n",
    "    return str(data)\n"
   ]
  },
  {
   "cell_type": "code",
   "execution_count": 47,
   "id": "6646cdcd",
   "metadata": {},
   "outputs": [
    {
     "data": {
      "text/plain": [
       "\"{'location': 'mumbai?', 'temperature': 29.3, 'humidity': 73, 'wind_speed': 3.4, 'condition': 1101}\""
      ]
     },
     "execution_count": 47,
     "metadata": {},
     "output_type": "execute_result"
    }
   ],
   "source": [
    "Weather_Search.invoke(\"mumbai?\")"
   ]
  },
  {
   "cell_type": "markdown",
   "id": "7ddae72f",
   "metadata": {},
   "source": [
    "# Web Search Engine"
   ]
  },
  {
   "cell_type": "code",
   "execution_count": 16,
   "id": "2a1b6dca",
   "metadata": {},
   "outputs": [],
   "source": [
    "from langchain_community.tools import DuckDuckGoSearchRun\n",
    "search = DuckDuckGoSearchRun()"
   ]
  },
  {
   "cell_type": "markdown",
   "id": "b1b826c8",
   "metadata": {},
   "source": [
    "# Build LLM with tool"
   ]
  },
  {
   "cell_type": "code",
   "execution_count": 20,
   "id": "33f3da48",
   "metadata": {},
   "outputs": [],
   "source": [
    "llm_with_tools = llm.bind_tools([Weather_Search,search])"
   ]
  },
  {
   "cell_type": "code",
   "execution_count": 52,
   "id": "1ab6c503",
   "metadata": {},
   "outputs": [],
   "source": [
    "response = llm_with_tools.invoke(\"Wheather of mumbai?\")"
   ]
  },
  {
   "cell_type": "code",
   "execution_count": 53,
   "id": "a937a3e9",
   "metadata": {},
   "outputs": [
    {
     "data": {
      "text/plain": [
       "[{'name': 'Weather_Search',\n",
       "  'args': {'location': 'Mumbai'},\n",
       "  'id': 'mz1y0c6kv',\n",
       "  'type': 'tool_call'}]"
      ]
     },
     "execution_count": 53,
     "metadata": {},
     "output_type": "execute_result"
    }
   ],
   "source": [
    "response.tool_calls"
   ]
  },
  {
   "cell_type": "code",
   "execution_count": 54,
   "id": "c0f7c6e7",
   "metadata": {},
   "outputs": [
    {
     "data": {
      "text/plain": [
       "''"
      ]
     },
     "execution_count": 54,
     "metadata": {},
     "output_type": "execute_result"
    }
   ],
   "source": [
    "response.content"
   ]
  },
  {
   "cell_type": "code",
   "execution_count": 55,
   "id": "b1ad4eed",
   "metadata": {},
   "outputs": [
    {
     "data": {
      "text/plain": [
       "AIMessage(content='', additional_kwargs={'reasoning_content': 'Alright, the user is asking about the weather in Mumbai. I need to figure out how to respond using the tools provided. I have access to the Weather_Search function, which requires a location parameter. \\n\\nFirst, I\\'ll check if I can extract the location from the user\\'s query. The query is \"Wheather of mumbai?\" which seems to have a typo but clearly mentions Mumbai. So, the location is Mumbai.\\n\\nNext, I\\'ll construct the function call. The function name is Weather_Search, and the argument is an object with the location set to \"Mumbai\". \\n\\nI should make sure the JSON is correctly formatted, with proper quotes and commas. Also, I need to wrap the tool call within the specified XML tags as per the instructions.\\n\\nSo, the final tool call will include the function name and the arguments in the correct JSON format inside the <tool_call> tags.\\n', 'tool_calls': [{'id': 'mz1y0c6kv', 'function': {'arguments': '{\"location\":\"Mumbai\"}', 'name': 'Weather_Search'}, 'type': 'function'}]}, response_metadata={'token_usage': {'completion_tokens': 210, 'prompt_tokens': 199, 'total_tokens': 409, 'completion_time': 0.826564172, 'prompt_time': 0.027130477, 'queue_time': 0.041506502, 'total_time': 0.853694649}, 'model_name': 'deepseek-r1-distill-llama-70b', 'system_fingerprint': 'fp_1bbe7845ec', 'service_tier': 'on_demand', 'finish_reason': 'tool_calls', 'logprobs': None}, id='run--15c46f5a-7682-4861-9705-51ceb730709b-0', tool_calls=[{'name': 'Weather_Search', 'args': {'location': 'Mumbai'}, 'id': 'mz1y0c6kv', 'type': 'tool_call'}], usage_metadata={'input_tokens': 199, 'output_tokens': 210, 'total_tokens': 409})"
      ]
     },
     "execution_count": 55,
     "metadata": {},
     "output_type": "execute_result"
    }
   ],
   "source": [
    "response"
   ]
  },
  {
   "cell_type": "markdown",
   "id": "8b07d600",
   "metadata": {},
   "source": [
    "# Using Langgraph to Build Agent"
   ]
  },
  {
   "cell_type": "code",
   "execution_count": 71,
   "id": "c980a0c5",
   "metadata": {},
   "outputs": [],
   "source": [
    "System_Message = SystemMessage(\"\"\"You are a helpful assistant.  \n",
    "You can use the **weather tool** to get real-time weather information,  \n",
    "and the **search tool** for web searches.\"\"\")\n",
    "\n",
    "tools = [Weather_Search,search]\n",
    "\n",
    "def LLM_Call_Fun(state:MessagesState):\n",
    "\n",
    "    user_query= state[\"messages\"]\n",
    "\n",
    "    input_query = [System_Message] + user_query\n",
    "\n",
    "    response = llm_with_tools.invoke(input_query)\n",
    "    \n",
    "    return {\"messages\":[response]}"
   ]
  },
  {
   "cell_type": "code",
   "execution_count": 72,
   "id": "e7870106",
   "metadata": {},
   "outputs": [
    {
     "data": {
      "text/plain": [
       "<langgraph.graph.state.StateGraph at 0x27da2611bd0>"
      ]
     },
     "execution_count": 72,
     "metadata": {},
     "output_type": "execute_result"
    }
   ],
   "source": [
    "from langgraph.graph import StateGraph,START,END\n",
    "from langgraph.prebuilt import tools_condition\n",
    "\n",
    "workflow = StateGraph(MessagesState)\n",
    "\n",
    "workflow.add_node(\"llm_decision_step\",LLM_Call_Fun)\n",
    "\n",
    "workflow.add_node(\"tools\",ToolNode(tools))\n",
    "\n",
    "\n",
    "workflow.add_conditional_edges(\"llm_decision_step\",tools_condition)\n",
    "\n",
    "workflow.add_edge(START,\"llm_decision_step\")\n",
    "\n",
    "workflow.add_edge(\"tools\",\"llm_decision_step\")\n"
   ]
  },
  {
   "cell_type": "code",
   "execution_count": 73,
   "id": "4cd7906b",
   "metadata": {},
   "outputs": [],
   "source": [
    "react_agent = workflow.compile()"
   ]
  },
  {
   "cell_type": "code",
   "execution_count": 74,
   "id": "d1ee38b1",
   "metadata": {},
   "outputs": [
    {
     "data": {
      "image/png": "[encoded data removed]",
      "text/plain": [
       "<IPython.core.display.Image object>"
      ]
     },
     "metadata": {},
     "output_type": "display_data"
    }
   ],
   "source": [
    "from IPython.display import Image, display\n",
    "display(Image(react_agent.get_graph().draw_mermaid_png()))"
   ]
  },
  {
   "cell_type": "code",
   "execution_count": 79,
   "id": "49e0c736",
   "metadata": {},
   "outputs": [
    {
     "name": "stdout",
     "output_type": "stream",
     "text": [
      "================================\u001b[1m Human Message \u001b[0m=================================\n",
      "\n",
      "What is current weather of mumbai?\n",
      "==================================\u001b[1m Ai Message \u001b[0m==================================\n",
      "Tool Calls:\n",
      "  Weather_Search (8qp1sfkpg)\n",
      " Call ID: 8qp1sfkpg\n",
      "  Args:\n",
      "    location: Mumbai\n",
      "=================================\u001b[1m Tool Message \u001b[0m=================================\n",
      "Name: Weather_Search\n",
      "\n",
      "{'location': 'Mumbai', 'temperature': 30.3, 'humidity': 68, 'wind_speed': 3.1, 'condition': 1001}\n",
      "==================================\u001b[1m Ai Message \u001b[0m==================================\n",
      "\n",
      "The current weather in Mumbai is as follows:\n",
      "\n",
      "- Temperature: 30.3°C\n",
      "- Humidity: 68%\n",
      "- Wind Speed: 3.1 km/h\n",
      "- Condition: 1001 (Clear Sky)\n",
      "\n",
      "Let me know if you'd like further details!\n"
     ]
    }
   ],
   "source": [
    "message=[HumanMessage(content=\"What is current weather of mumbai?\")]\n",
    "messages = react_agent.invoke({\"messages\":message})\n",
    "for m in messages['messages']:\n",
    "    m.pretty_print()"
   ]
  },
  {
   "cell_type": "code",
   "execution_count": 80,
   "id": "880a6f32",
   "metadata": {},
   "outputs": [
    {
     "name": "stdout",
     "output_type": "stream",
     "text": [
      "================================\u001b[1m Human Message \u001b[0m=================================\n",
      "\n",
      "Hello\n",
      "==================================\u001b[1m Ai Message \u001b[0m==================================\n",
      "\n",
      "Hello! How can I assist you today?\n"
     ]
    }
   ],
   "source": [
    "message=[HumanMessage(content=\"Hello\")]\n",
    "messages = react_agent.invoke({\"messages\":message})\n",
    "for m in messages['messages']:\n",
    "    m.pretty_print()"
   ]
  },
  {
   "cell_type": "code",
   "execution_count": 82,
   "id": "35890d87",
   "metadata": {},
   "outputs": [
    {
     "name": "stdout",
     "output_type": "stream",
     "text": [
      "================================\u001b[1m Human Message \u001b[0m=================================\n",
      "\n",
      "lastest iphon updates?\n",
      "==================================\u001b[1m Ai Message \u001b[0m==================================\n",
      "Tool Calls:\n",
      "  duckduckgo_search (8nt8ha0yv)\n",
      " Call ID: 8nt8ha0yv\n",
      "  Args:\n",
      "    query: latest iPhone updates 2023\n",
      "=================================\u001b[1m Tool Message \u001b[0m=================================\n",
      "Name: duckduckgo_search\n",
      "\n",
      "Latest news, in-depth features and opinion on Singapore, covering politics, economy, society and the city state’s relationships with China, Malaysia, and other Southeast Asian countries. Sep 26, 2025 · The latest military news, insights and analysis from China. Latest China military news, including US-China military tensions, China’s spending on defence and Beijing’s vow to increase its preparation for war. Latest news, in-depth features and opinion on Malaysia, covering politics, economy, society and the Asean member-nation’s relationships with China, Singapore, and other Southeast Asian … Latest news and analysis on Apple, the US tech firm that was co-founded by Steve Jobs, including news on current CEO Tim Cook and products such as the iPhone, Mac and Apple …\n",
      "==================================\u001b[1m Ai Message \u001b[0m==================================\n",
      "\n",
      "It seems like the tool output didn't directly address your question about the latest iPhone updates. Let me refine the search to find the most relevant information for you.\n",
      "Tool Calls:\n",
      "  duckduckgo_search (8nt8ha0yv)\n",
      " Call ID: 8nt8ha0yv\n",
      "  Args:\n",
      "    query: latest iPhone updates 2023 features\n",
      "=================================\u001b[1m Tool Message \u001b[0m=================================\n",
      "Name: duckduckgo_search\n",
      "\n",
      "15 Sept 2025 — 11 of our favorite new features in iOS 26 · Apple's new Liquid Glass design · Live language translation in FaceTime, texts, or phone calls. 17 Sept 2025 — The update features a redesigned 'Liquid Glass' user interface and enhanced 'Apple Intelligence' with live translation and call screening. The Wallet app also ... 3 days ago — Updated Phone app: New to this core iPhone app are Apple Intelligence-generated Voice Mail text summaries, Call Screening for spam calls, Hold Assist for ... 16 Sept 2025 — Apple's new iOS 26 for iPhone brings a translucent-looking “glass” design, plus a more customizable lock screen and an AI spam call screener. 1 day ago — iOS 26 will eventually let you add a digital version of your U.S. passport to Apple's Wallet app . The feature will be available later this year, according to ...\n",
      "==================================\u001b[1m Ai Message \u001b[0m==================================\n",
      "\n",
      "Here are some of the latest updates and features for iPhones, particularly focusing on iOS 16, which was released in 2023:\n",
      "\n",
      "1. **Lock Screen Redesign**: iOS 16 introduced a completely redesigned Lock Screen that allows users to customize it with different fonts, colors, and widgets, making it more personalized and functional.\n",
      "\n",
      "2. **Focus Modes**: Enhanced Focus modes allow users to set up different profiles for work, personal time, or sleep, helping them stay productive and minimize distractions.\n",
      "\n",
      "3. **Mail Improvements**: The Mail app received significant updates, including better search functionality, the ability to schedule emails, and enhanced filtering options.\n",
      "\n",
      "4. **Safari Updates**: Safari now supports Shared Tab Groups, making it easier to share and collaborate on browsing sessions with friends or colleagues.\n",
      "\n",
      "5. **iMessage Features**: iOS 16 brought new features to iMessage, such as the ability to edit or delete messages after they've been sent, as well as improved collaboration tools.\n",
      "\n",
      "6. **CarPlay Updates**: Apple announced significant updates to CarPlay, including a new interface that integrates more deeply with vehicle systems, offering a more seamless driving experience.\n",
      "\n",
      "7. **Privacy and Security Enhancements**: As with every iOS update, there were several privacy and security improvements to protect user data and ensure a safer experience.\n",
      "\n",
      "These are just a few of the many features and updates that Apple introduced in iOS 16. If you're looking for more recent updates or specific features, let me know!\n"
     ]
    }
   ],
   "source": [
    "message=[HumanMessage(content=\"lastest iphone updates?\")]\n",
    "messages = react_agent.invoke({\"messages\":message})\n",
    "for m in messages['messages']:\n",
    "    m.pretty_print()"
   ]
  },
  {
   "cell_type": "code",
   "execution_count": null,
   "id": "db62bba8",
   "metadata": {},
   "outputs": [],
   "source": []
  }
 ],
 "metadata": {
  "kernelspec": {
   "display_name": "Python (gen_ai)",
   "language": "python",
   "name": "gen_ai"
  },
  "language_info": {
   "codemirror_mode": {
    "name": "ipython",
    "version": 3
   },
   "file_extension": ".py",
   "mimetype": "text/x-python",
   "name": "python",
   "nbconvert_exporter": "python",
   "pygments_lexer": "ipython3",
   "version": "3.13.7"
  }
 },
 "nbformat": 4,
 "nbformat_minor": 5
}
